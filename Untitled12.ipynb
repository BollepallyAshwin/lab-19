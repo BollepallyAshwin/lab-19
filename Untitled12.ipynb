{
  "nbformat": 4,
  "nbformat_minor": 0,
  "metadata": {
    "colab": {
      "provenance": [],
      "authorship_tag": "ABX9TyPnBDl8QshES1LXtG2hMA+O",
      "include_colab_link": true
    },
    "kernelspec": {
      "name": "python3",
      "display_name": "Python 3"
    },
    "language_info": {
      "name": "python"
    }
  },
  "cells": [
    {
      "cell_type": "markdown",
      "metadata": {
        "id": "view-in-github",
        "colab_type": "text"
      },
      "source": [
        "<a href=\"https://colab.research.google.com/github/BollepallyAshwin/lab-19/blob/main/Untitled12.ipynb\" target=\"_parent\"><img src=\"https://colab.research.google.com/assets/colab-badge.svg\" alt=\"Open In Colab\"/></a>"
      ]
    },
    {
      "cell_type": "markdown",
      "source": [
        "Task 1: Translate a Simple Program (Python → JavaScript)\n",
        "• Instructions:\n",
        "• Write a Python function print_numbers() that prints the\n",
        "first 10 natural numbers using a loop.\n",
        "• Translate the function into JavaScript as a reusable\n",
        "function printNumbers().\n",
        "• Call the function in both languages to display results.\n",
        "• Expected Output:\n",
        "• 1\n",
        "• 2\n",
        "• 3\n",
        "• ...10"
      ],
      "metadata": {
        "id": "KOq98olmPWCY"
      }
    },
    {
      "cell_type": "code",
      "source": [
        "def print_numbers():\n",
        "  \"\"\"Prints the first 10 natural numbers using a loop.\"\"\"\n",
        "  for i in range(1, 11):\n",
        "    print(i)\n",
        "\n",
        "print_numbers()"
      ],
      "metadata": {
        "colab": {
          "base_uri": "https://localhost:8080/"
        },
        "id": "SCzsThDLPdEs",
        "outputId": "c4a8c6bb-b7bc-44d1-cde3-9925dcf62b23"
      },
      "execution_count": null,
      "outputs": [
        {
          "output_type": "stream",
          "name": "stdout",
          "text": [
            "1\n",
            "2\n",
            "3\n",
            "4\n",
            "5\n",
            "6\n",
            "7\n",
            "8\n",
            "9\n",
            "10\n"
          ]
        }
      ]
    },
    {
      "cell_type": "code",
      "metadata": {
        "id": "06fb0463"
      },
      "source": [
        "function printNumbers() {\n",
        "  /**\n",
        "   * Prints the first 10 natural numbers using a loop.\n",
        "   */\n",
        "  for (let i = 1; i <= 10; i++) {\n",
        "    console.log(i);\n",
        "  }\n",
        "}\n",
        "\n",
        "printNumbers();"
      ],
      "execution_count": null,
      "outputs": []
    },
    {
      "cell_type": "markdown",
      "source": [
        "Task 2: Convert Conditional Statements (Java → Python)\n",
        "• Instructions:\n",
        "• Write a Java method checkNumber(int num) that checks if\n",
        "a number is positive, negative, or zero.\n",
        "• Translate the method into a Python function\n",
        "check_number(num).\n",
        "• Call the function/method with different inputs and\n",
        "compare outputs.\n",
        "• Expected Output:\n",
        "o Input: -5 → Output: The number is negative\n",
        "o Input: 0 → Output: The number is zero\n",
        "o Input: 7 → Output: The number is positive"
      ],
      "metadata": {
        "id": "iYX2gnDiSOZW"
      }
    },
    {
      "cell_type": "code",
      "source": [
        "public class NumberChecker {\n",
        "    public static void checkNumber(int num) {\n",
        "        if (num > 0) {\n",
        "            System.out.println(\"The number is positive\");\n",
        "        } else if (num < 0) {\n",
        "            System.out.println(\"The number is negative\");\n",
        "        } else {\n",
        "            System.out.println(\"The number is zero\");\n",
        "        }\n",
        "    }\n",
        "\n",
        "    public static void main(String[] args) {\n",
        "        checkNumber(-5);\n",
        "        checkNumber(0);\n",
        "        checkNumber(7);\n",
        "    }\n",
        "}"
      ],
      "metadata": {
        "id": "PR3Iytk4SbSO"
      },
      "execution_count": null,
      "outputs": []
    },
    {
      "cell_type": "code",
      "metadata": {
        "colab": {
          "base_uri": "https://localhost:8080/"
        },
        "id": "fa1de4ac",
        "outputId": "a645af92-85f8-4e81-9ae5-1258a4bd6a13"
      },
      "source": [
        "def check_number(num):\n",
        "  \"\"\"Checks if a number is positive, negative, or zero.\"\"\"\n",
        "  if num > 0:\n",
        "    print(\"The number is positive\")\n",
        "  elif num < 0:\n",
        "    print(\"The number is negative\")\n",
        "  else:\n",
        "    print(\"The number is zero\")\n",
        "\n",
        "check_number(-5)\n",
        "check_number(0)\n",
        "check_number(7)"
      ],
      "execution_count": null,
      "outputs": [
        {
          "output_type": "stream",
          "name": "stdout",
          "text": [
            "The number is negative\n",
            "The number is zero\n",
            "The number is positive\n"
          ]
        }
      ]
    },
    {
      "cell_type": "markdown",
      "source": [
        "Task 3: Translate Recursive Function (Python → C++)\n",
        "• Instructions:\n",
        "• Write a Python function factorial(n) that calculates\n",
        "factorial of a number using recursion.\n",
        "• Translate the same into a C++ function int factorial(int n).\n",
        "• Call the function in both languages with inputs 5 and 0.\n",
        "• Expected Output:\n",
        "o Input: 5 → Output: Factorial = 120\n",
        "o Input: 0 → Output: Factorial = 1"
      ],
      "metadata": {
        "id": "0QdJ7agPSvlG"
      }
    },
    {
      "cell_type": "code",
      "source": [
        "def factorial(n):\n",
        "  \"\"\"Calculates the factorial of a number using recursion.\"\"\"\n",
        "  if n == 0:\n",
        "    return 1\n",
        "  else:\n",
        "    return n * factorial(n-1)\n",
        "\n",
        "print(f\"Factorial of 5 = {factorial(5)}\")\n",
        "print(f\"Factorial of 0 = {factorial(0)}\")"
      ],
      "metadata": {
        "colab": {
          "base_uri": "https://localhost:8080/"
        },
        "id": "FpaKyBL2SsPD",
        "outputId": "3d44443d-df15-4370-b945-bb79bab7eabc"
      },
      "execution_count": null,
      "outputs": [
        {
          "output_type": "stream",
          "name": "stdout",
          "text": [
            "Factorial of 5 = 120\n",
            "Factorial of 0 = 1\n"
          ]
        }
      ]
    },
    {
      "cell_type": "code",
      "metadata": {
        "id": "1dbb125d"
      },
      "source": [
        "#include <iostream>\n",
        "\n",
        "int factorial(int n) {\n",
        "  /**\n",
        "   * Calculates the factorial of a number using recursion.\n",
        "   */\n",
        "  if (n == 0) {\n",
        "    return 1;\n",
        "  } else {\n",
        "    return n * factorial(n-1);\n",
        "  }\n",
        "}\n",
        "\n",
        "int main() {\n",
        "  std::cout << \"Factorial of 5 = \" << factorial(5) << std::endl;\n",
        "  std::cout << \"Factorial of 0 = \" << factorial(0) << std::endl;\n",
        "  return 0;\n",
        "}"
      ],
      "execution_count": null,
      "outputs": []
    },
    {
      "cell_type": "markdown",
      "source": [
        "Task 4: Data Structures with Functions (JavaScript → Python)\n",
        "• Instructions:\n",
        "• Write a JavaScript function printStudents(students) that\n",
        "takes an array of student names and prints each name.\n",
        "• Translate it into a Python function\n",
        "print_students(students) using a list.\n",
        "• Test both functions with sample student names.\n",
        "• Expected Output:\n",
        "• Student List:\n",
        "• Alice\n",
        "• Bob\n",
        "• Charlie"
      ],
      "metadata": {
        "id": "fU2Aee79S9Gn"
      }
    },
    {
      "cell_type": "code",
      "source": [
        "function printStudents(students) {\n",
        "  /**\n",
        "   * Takes an array of student names and prints each name.\n",
        "   */\n",
        "  console.log(\"Student List:\");\n",
        "  students.forEach(function(student) {\n",
        "    console.log(student);\n",
        "  });\n",
        "}\n",
        "\n",
        "// Test the function\n",
        "const studentNames = [\"Alice\", \"Bob\", \"Charlie\"];\n",
        "printStudents(studentNames);"
      ],
      "metadata": {
        "id": "rV8UqD0CTGsJ"
      },
      "execution_count": null,
      "outputs": []
    },
    {
      "cell_type": "code",
      "metadata": {
        "colab": {
          "base_uri": "https://localhost:8080/"
        },
        "id": "4bd170c6",
        "outputId": "2f425485-4398-480e-9125-3888500bc091"
      },
      "source": [
        "def print_students(students):\n",
        "  \"\"\"Takes a list of student names and prints each name.\"\"\"\n",
        "  print(\"Student List:\")\n",
        "  for student in students:\n",
        "    print(student)\n",
        "\n",
        "# Test the function\n",
        "student_names = [\"Alice\", \"Bob\", \"Charlie\"]\n",
        "print_students(student_names)"
      ],
      "execution_count": null,
      "outputs": [
        {
          "output_type": "stream",
          "name": "stdout",
          "text": [
            "Student List:\n",
            "Alice\n",
            "Bob\n",
            "Charlie\n"
          ]
        }
      ]
    },
    {
      "cell_type": "markdown",
      "source": [
        "Task 5: Class & Object Translation (Python → Java)\n",
        "• Instructions:\n",
        "1. Write a Python class Car with attributes: brand, model,\n",
        "year.\n",
        "2. Add a method display_details() that prints car details.\n",
        "3. Translate the same into a Java class Car with attributes\n",
        "and a method displayDetails().\n",
        "4. Create an object in both languages and call the method.\n",
        "• Expected Output:\n",
        "• Car Details:\n",
        "• Brand: Toyota\n",
        "• Model: Corolla\n",
        "Year: 2020"
      ],
      "metadata": {
        "id": "gqtL9SISTZxZ"
      }
    },
    {
      "cell_type": "code",
      "source": [
        "class Car:\n",
        "  \"\"\"Represents a car with brand, model, and year attributes.\"\"\"\n",
        "  def __init__(self, brand, model, year):\n",
        "    self.brand = brand\n",
        "    self.model = model\n",
        "    self.year = year\n",
        "\n",
        "  def display_details(self):\n",
        "    \"\"\"Prints the car details.\"\"\"\n",
        "    print(\"Car Details:\")\n",
        "    print(f\"Brand: {self.brand}\")\n",
        "    print(f\"Model: {self.model}\")\n",
        "    print(f\"Year: {self.year}\")\n",
        "\n",
        "# Create an object and call the method\n",
        "my_car = Car(\"Toyota\", \"Corolla\", 2020)\n",
        "my_car.display_details()"
      ],
      "metadata": {
        "colab": {
          "base_uri": "https://localhost:8080/"
        },
        "id": "kQ4h9Y61TgMS",
        "outputId": "d4c930bb-4cec-4faa-ba63-0259b8afdebb"
      },
      "execution_count": null,
      "outputs": [
        {
          "output_type": "stream",
          "name": "stdout",
          "text": [
            "Car Details:\n",
            "Brand: Toyota\n",
            "Model: Corolla\n",
            "Year: 2020\n"
          ]
        }
      ]
    },
    {
      "cell_type": "code",
      "metadata": {
        "id": "2cfad8df"
      },
      "source": [
        "public class Car {\n",
        "    String brand;\n",
        "    String model;\n",
        "    int year;\n",
        "\n",
        "    public Car(String brand, String model, int year) {\n",
        "        this.brand = brand;\n",
        "        this.model = model;\n",
        "        this.year = year;\n",
        "    }\n",
        "\n",
        "    public void displayDetails() {\n",
        "        System.out.println(\"Car Details:\");\n",
        "        System.out.println(\"Brand: \" + this.brand);\n",
        "        System.out.println(\"Model: \" + this.model);\n",
        "        System.out.println(\"Year: \" + this.year);\n",
        "    }\n",
        "\n",
        "    public static void main(String[] args) {\n",
        "        Car myCar = new Car(\"Toyota\", \"Corolla\", 2020);\n",
        "        myCar.displayDetails();\n",
        "    }\n",
        "}"
      ],
      "execution_count": null,
      "outputs": []
    }
  ]
}